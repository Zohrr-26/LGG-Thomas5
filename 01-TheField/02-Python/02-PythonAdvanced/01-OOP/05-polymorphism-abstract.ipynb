{
 "cells": [
  {
   "cell_type": "markdown",
   "metadata": {},
   "source": [
    "## Polymorphism\n",
    "\n",
    "Polymorphism in Python allows objects of different classes to be treated as objects of a common base class.\n",
    "It enables the use of a single interface for different data types or classes. There are several types of polymorphism in Python:\n",
    "\n",
    "- Function Polymorphism: Python's built-in functions like len() can work with different data types\n",
    "- Class Polymorphism: Different classes can have methods with the same name\n",
    "- Inheritance-based Polymorphism: Child classes can override methods from parent classes\n",
    "\n",
    "Example of class polymorphism:"
   ]
  },
  {
   "cell_type": "code",
   "execution_count": 1,
   "metadata": {},
   "outputs": [
    {
     "name": "stdout",
     "output_type": "stream",
     "text": [
      "Drive!\n",
      "Sail!\n",
      "Fly!\n"
     ]
    }
   ],
   "source": [
    "class Car:\n",
    "    def move(self):\n",
    "        print(\"Drive!\")\n",
    "\n",
    "class Boat:\n",
    "    def move(self):\n",
    "        print(\"Sail!\")\n",
    "\n",
    "class Plane:\n",
    "    def move(self):\n",
    "        print(\"Fly!\")\n",
    "\n",
    "for vehicle in (Car(), Boat(), Plane()):\n",
    "    vehicle.move()\n"
   ]
  },
  {
   "cell_type": "markdown",
   "metadata": {},
   "source": [
    "\n",
    "#### Basic Method Overriding\n",
    "\n",
    "Create a base class Animal with a method make_sound(). Then create subclasses Dog, Cat, and Cow that override this method. Demonstrate polymorphism by calling make_sound() on different animal objects."
   ]
  },
  {
   "cell_type": "code",
   "execution_count": null,
   "metadata": {},
   "outputs": [
    {
     "name": "stdout",
     "output_type": "stream",
     "text": [
      "Wouaf\n",
      "Miaw\n",
      "Meuh\n"
     ]
    }
   ],
   "source": [
    "class Animal:\n",
    "    def make_sound(self):\n",
    "        pass\n",
    "\n",
    "# Implement Dog, Cat, and Cow classes here\n",
    "class Dog(Animal):\n",
    "#    def __init__(self):\n",
    "#        super().__init__()\n",
    "    def make_sound(self):\n",
    "        return (\"Wouaf\")\n",
    "    \n",
    "class Cat(Animal):\n",
    "#    def __init__(self):\n",
    "#        super().__init__()\n",
    "    def make_sound(self):\n",
    "        return (\"Miaw\")\n",
    "    \n",
    "class Cow(Animal):\n",
    "#    def __init__(self):\n",
    "#        super().__init__()\n",
    "    def make_sound(self):\n",
    "        return (\"Meuh\")\n",
    "    \n",
    "\n",
    "\n",
    "# Create a list of animals and make them all sound off\n",
    "for animal in (Dog(), Cat(), Cow()):\n",
    "    print(animal.make_sound())\n"
   ]
  },
  {
   "cell_type": "markdown",
   "metadata": {},
   "source": [
    "\n",
    "#### Employee Salary Calculator\n",
    "\n",
    "Create a base class Employee with a method calculate_salary(). Implement subclasses FullTimeEmployee, PartTimeEmployee, and Contractor, each with its own salary calculation logic. Use polymorphism to calculate salaries for different types of employees."
   ]
  },
  {
   "cell_type": "code",
   "execution_count": null,
   "metadata": {},
   "outputs": [
    {
     "name": "stdout",
     "output_type": "stream",
     "text": [
      "Alice earns 3000\n",
      "Loic earns 1500\n",
      "John earns 6000\n"
     ]
    }
   ],
   "source": [
    "average_salary = 3000\n",
    "\n",
    "class Employee:\n",
    "    def __init__(self, name):\n",
    "        self.name = name\n",
    "        self.salary = None\n",
    "\n",
    "    def calculate_salary(self):\n",
    "        pass\n",
    "\n",
    "# Implement FullTimeEmployee, PartTimeEmployee, and Contractor classes here\n",
    "\n",
    "class Full_Time(Employee):\n",
    "    def __init__(self, name):\n",
    "        super().__init__(name)\n",
    "    \n",
    "    def calculate_salary(self):\n",
    "        self.salary = average_salary\n",
    "    \n",
    "class Part_Time(Employee):\n",
    "    def __init__(self, name):\n",
    "        super().__init__(name)\n",
    "    \n",
    "    def calculate_salary(self):\n",
    "        self.salary = (average_salary / 2)\n",
    "    \n",
    "class Contractor(Employee):\n",
    "    def __init__(self, name):\n",
    "        super().__init__(name)\n",
    "\n",
    "    def calculate_salary(self):\n",
    "        self.salary = (average_salary * 2)\n",
    "    \n",
    "\n",
    "# Create a list of employees and calculate their salaries\n",
    "\n",
    "employees = [\n",
    "    Full_Time(\"Alice\"),\n",
    "    Part_Time(\"Loic\"),\n",
    "    Contractor(\"John\")\n",
    "    ]\n",
    "\n",
    "for people in employees:\n",
    "    people.calculate_salary()\n",
    "    print(f\"{people.name} earns {int(people.salary)}\")\n"
   ]
  },
  {
   "cell_type": "markdown",
   "metadata": {},
   "source": [
    "#### Abstract methods\n",
    "\n",
    "Abstract methods in Python are methods declared in an abstract class but lack implementation. They serve as a blueprint for subclasses, requiring them to provide specific implementations. \n",
    "\n",
    "Abstract methods are defined using the @abstractmethod decorator from the abc module. They are typically part of an abstract base class (ABC)\n",
    "\n",
    "##### Usage and Utility\n",
    "\n",
    "- Enforcing Interface: Abstract methods ensure that subclasses implement required methods, creating a consistent interface\n",
    "- Code Reusability: They promote code reuse by defining a common structure for related classes\n",
    "- Polymorphism: Abstract methods enable polymorphic behavior, allowing different subclasses to provide their own implementations\n",
    "- Encapsulation: They help encapsulate implementation details while exposing a clear interface\n",
    "\n",
    "##### When to Use Abstract Methods\n",
    "Use abstract methods in the following scenarios:\n",
    "\n",
    "- API Design: When designing APIs that require specific interfaces to be implemented\n",
    "- Plugin Architecture: For creating extensible systems where plugins need to adhere to a defined interface\n",
    "- Domain Modeling: When modeling complex domains and ensuring certain methods are implemented across all classes in the domain\n",
    "- Framework Development: To provide a structure for developers to extend and customize functionality\n",
    "- Standardization: When you want to enforce a standard set of methods across multiple related classes\n",
    "\n",
    "Abstract methods are powerful tools for creating flexible, maintainable, and extensible code in Python. They help define clear contracts between base classes and their subclasses, ensuring consistent behavior across class hierarchies"
   ]
  },
  {
   "cell_type": "markdown",
   "metadata": {},
   "source": [
    "\n",
    "#### Shape Area Calculator\n",
    "\n",
    "Create an abstract base class Shape with an abstract method area(). Implement concrete classes Circle, Rectangle, and Triangle that inherit from Shape. Use polymorphism to calculate and print the areas of different shapes."
   ]
  },
  {
   "cell_type": "code",
   "execution_count": null,
   "metadata": {},
   "outputs": [],
   "source": [
    "from abc import ABC, abstractmethod\n",
    "import math\n",
    "\n",
    "class Shape(ABC):\n",
    "    @abstractmethod\n",
    "    def area(self):\n",
    "        pass\n",
    "\n",
    "# Implement Circle, Rectangle, and Triangle classes here\n",
    "\n",
    "class Triangle(Shape):\n",
    "    def area(self):\n",
    "\n",
    "        pass ## base x hauteur / 2\n",
    "\n",
    "class Rectangle(Shape):\n",
    "    def area(self):\n",
    "\n",
    "        pass ## longeur x largeur\n",
    "\n",
    "class Circle(Shape):\n",
    "    def area(self):\n",
    "\n",
    "        pass ## rayon x rayon x pi (3,14)\n",
    "\n",
    "# Create a list of shapes and calculate their areas\n",
    "\n",
    "\n"
   ]
  },
  {
   "cell_type": "markdown",
   "metadata": {},
   "source": [
    "\n",
    "#### File Processor\n",
    "\n",
    "Create an abstract base class FileProcessor with methods read_file() and process_data(). Implement concrete classes for different file types (e.g., CSVProcessor, JSONProcessor, XMLProcessor). Use polymorphism to read and process data from different file formats. "
   ]
  },
  {
   "cell_type": "code",
   "execution_count": null,
   "metadata": {},
   "outputs": [],
   "source": [
    "from abc import ABC, abstractmethod\n",
    "\n",
    "class FileProcessor(ABC):\n",
    "    @abstractmethod\n",
    "    def read_file(self, filename):\n",
    "        pass\n",
    "\n",
    "    @abstractmethod\n",
    "    def process_data(self, data):\n",
    "        pass\n",
    "\n",
    "# Implement CSVProcessor, JSONProcessor, and XMLProcessor classes here\n",
    "\n",
    "# Create a list of file processors and use them to read and process different file types\n"
   ]
  }
 ],
 "metadata": {
  "kernelspec": {
   "display_name": "Python 3",
   "language": "python",
   "name": "python3"
  },
  "language_info": {
   "codemirror_mode": {
    "name": "ipython",
    "version": 3
   },
   "file_extension": ".py",
   "mimetype": "text/x-python",
   "name": "python",
   "nbconvert_exporter": "python",
   "pygments_lexer": "ipython3",
   "version": "3.13.2"
  }
 },
 "nbformat": 4,
 "nbformat_minor": 2
}
