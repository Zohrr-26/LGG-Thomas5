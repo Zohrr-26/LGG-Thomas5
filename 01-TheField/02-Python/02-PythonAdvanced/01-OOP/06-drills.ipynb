{
 "cells": [
  {
   "cell_type": "markdown",
   "metadata": {},
   "source": [
    "### Best Practices for OOP in Python\n",
    "\n",
    "- Follow the Single Responsibility Principle: Each class should have one primary responsibility.\n",
    "- Use meaningful names for classes, methods, and attributes.\n",
    "- Implement encapsulation using private attributes (with double underscores) and properties.\n",
    "- Favor composition over inheritance when appropriate.\n",
    "- Use method overriding to implement polymorphism effectively.\n",
    "- Keep your classes small and focused.\n",
    "- Use docstrings to document your classes and methods.\n"
   ]
  },
  {
   "cell_type": "markdown",
   "metadata": {},
   "source": [
    "### Testing OOP Code\n",
    "Testing OOP code in Python typically involves unit testing individual classes and their methods. Here are some best practices:\n",
    "\n",
    "- Use the unittest module for creating and running tests.\n",
    "- Create separate test classes for each of your classes.\n",
    "- Test both positive and negative scenarios.\n",
    "- Use mock objects to isolate the class under test from its dependencies.\n",
    "\n",
    "Example of a simple unit test: "
   ]
  },
  {
   "cell_type": "code",
   "execution_count": 2,
   "metadata": {},
   "outputs": [
    {
     "name": "stderr",
     "output_type": "stream",
     "text": [
      "test_area (__main__.TestCircle.test_area) ... ok\n",
      "\n",
      "----------------------------------------------------------------------\n",
      "Ran 1 test in 0.002s\n",
      "\n",
      "OK\n"
     ]
    },
    {
     "name": "stdout",
     "output_type": "stream",
     "text": [
      "78.5\n"
     ]
    },
    {
     "data": {
      "text/plain": [
       "<unittest.main.TestProgram at 0x1039f4f50>"
      ]
     },
     "execution_count": 2,
     "metadata": {},
     "output_type": "execute_result"
    }
   ],
   "source": [
    "import unittest\n",
    "from math import pi\n",
    "\n",
    "class Circle:\n",
    "    def __init__(self, radius):\n",
    "        self.radius = radius\n",
    "        self.compute_area()\n",
    "\n",
    "    def compute_area(self):\n",
    "        self.area = round(pi * self.radius ** 2, 1)\n",
    "\n",
    "\n",
    "class TestCircle(unittest.TestCase):\n",
    "    def setUp(self):\n",
    "        self.circle = Circle(5)\n",
    "\n",
    "    def test_area(self):\n",
    "        print(self.circle.area)\n",
    "        self.assertAlmostEqual(self.circle.area, 78.5, places=1)\n",
    "\n",
    "unittest.main(argv=[''], verbosity=2, exit=False)\n"
   ]
  },
  {
   "cell_type": "markdown",
   "metadata": {},
   "source": [
    "For more complex scenarios, consider using testing frameworks like pytest, which offer additional features and a more intuitive syntax for writing and organizing tests. By following these practices and understanding these concepts, you can write more robust, maintainable, and testable OOP code in Python."
   ]
  },
  {
   "cell_type": "markdown",
   "metadata": {},
   "source": [
    "##### Exercise 1: Basic Class Creation\n",
    "Create a class called Car with the following attributes:\n",
    "\n",
    "    make\n",
    "    model\n",
    "    year\n",
    "    color\n",
    "\n",
    "Add a method called display_info() that prints out all the car's information. "
   ]
  },
  {
   "cell_type": "code",
   "execution_count": 39,
   "metadata": {},
   "outputs": [
    {
     "name": "stdout",
     "output_type": "stream",
     "text": [
      "Toyota\n",
      "Corolla\n",
      "2022\n",
      "Blue\n"
     ]
    }
   ],
   "source": [
    "class Car():\n",
    "    def __init__(self, make, model, year, color):\n",
    "        self.make = make\n",
    "        self.model = model\n",
    "        self.year = year\n",
    "        self.color = color\n",
    "\n",
    "    def display_info(self):\n",
    "        print(self.make)\n",
    "        print(self.model)\n",
    "        print(self.year)\n",
    "        print(self.color)\n",
    "\n",
    "mycar = Car(\"Toyota\", \"Corolla\", 2022, \"Blue\")\n",
    "Car.display_info(mycar)\n"
   ]
  },
  {
   "cell_type": "markdown",
   "metadata": {},
   "source": [
    "#### Exercise 2: Inheritance\n",
    "Create a base class called Animal with attributes name and species. Then create two subclasses, Dog and Cat, that inherit from Animal. Add a method make_sound() to each subclass that prints a specific sound for that animal. "
   ]
  },
  {
   "cell_type": "code",
   "execution_count": null,
   "metadata": {},
   "outputs": [
    {
     "name": "stdout",
     "output_type": "stream",
     "text": [
      "Wish the dog say: wouaf.\n",
      "Mushu the cat say: miawh.\n"
     ]
    }
   ],
   "source": [
    "class Animal:\n",
    "    def __init__(self, name, species):\n",
    "        self.name = name\n",
    "        self.species = species\n",
    "\n",
    "class Dog(Animal):\n",
    "    def __init__(self,name,species):\n",
    "        super().__init__(name,species)\n",
    "    def make_sound(self):\n",
    "        return f\"{self.name} the {self.species} say: wouaf.\"\n",
    "    \n",
    "class Cat(Animal):\n",
    "    def __init__(self,name,species):\n",
    "        super().__init__(name,species)\n",
    "    def make_sound(self):\n",
    "        return f\"{self.name} the {self.species} say: miawh.\"\n",
    "    \n",
    "## test\n",
    "\n",
    "mydog = Dog(\"Wish\", \"dog\")\n",
    "mycat = Cat(\"Mushu\", \"cat\")\n",
    "\n",
    "print(mydog.make_sound())\n",
    "print(mycat.make_sound())\n",
    "\n"
   ]
  },
  {
   "cell_type": "markdown",
   "metadata": {},
   "source": [
    "#### Exercise 3: Encapsulation\n",
    "Create a class called BankAccount with private attributes for balance and account_number. Implement methods for depositing, withdrawing, and checking the balance. Ensure that the balance cannot be accessed directly from outside the class. "
   ]
  },
  {
   "cell_type": "code",
   "execution_count": 11,
   "metadata": {},
   "outputs": [
    {
     "name": "stdout",
     "output_type": "stream",
     "text": [
      "you have 2600\n"
     ]
    }
   ],
   "source": [
    "class BankAccount():\n",
    "    def __init__(self, account_number, balance):\n",
    "        self.__account_number = account_number\n",
    "        self.__balance = balance\n",
    "    \n",
    "    def deposit(self, amount):\n",
    "        self.__balance += amount\n",
    "\n",
    "    def withdraw(self, amount):\n",
    "        self.__balance -= amount\n",
    "\n",
    "    def get_balance(self):\n",
    "        return self.__balance\n",
    "\n",
    "## test\n",
    "\n",
    "user_account_number = 1234567\n",
    "user_initial_amount = 3000\n",
    "user_account = BankAccount(user_account_number, user_initial_amount)\n",
    "\n",
    "user_account.deposit(300)\n",
    "user_account.withdraw(700)\n",
    "print(f\"you have {user_account.get_balance()}\")\n",
    "\n"
   ]
  },
  {
   "cell_type": "markdown",
   "metadata": {},
   "source": [
    "#### Exercise 4: Polymorphism\n",
    "Create a base class called Shape with a method area(). Then create subclasses for Circle, Rectangle, and Triangle. Implement the area() method differently for each subclass. Create a list of different shapes and calculate their areas using a single loop. "
   ]
  },
  {
   "cell_type": "code",
   "execution_count": 12,
   "metadata": {},
   "outputs": [
    {
     "name": "stdout",
     "output_type": "stream",
     "text": [
      "Area: 78.5\n",
      "Area: 24\n",
      "Area: 12\n"
     ]
    }
   ],
   "source": [
    "import math\n",
    "\n",
    "class Shape:\n",
    "    def area(self):\n",
    "        pass\n",
    "\n",
    "class Circle(Shape):\n",
    "    def __init__(self, radius):\n",
    "        self.radius = radius\n",
    "\n",
    "    def area(self):\n",
    "        return self.radius * self.radius * 3.14\n",
    "\n",
    "class Rectangle(Shape):\n",
    "    def __init__(self, width, height):\n",
    "        self.width = width\n",
    "        self.height = height\n",
    "\n",
    "    def area(self):\n",
    "        return self.width * self.height\n",
    "\n",
    "class Triangle(Shape):\n",
    "    def __init__(self, base, height):\n",
    "        self.base = base\n",
    "        self.height = height\n",
    "\n",
    "    def area(self):\n",
    "        return self.base * self.height\n",
    "\n",
    "# Test your classes\n",
    "shapes = [Circle(5), Rectangle(4, 6), Triangle(3, 4)]\n",
    "for shape in shapes:\n",
    "    print(f\"Area: {shape.area()}\")\n"
   ]
  },
  {
   "cell_type": "markdown",
   "metadata": {},
   "source": [
    "#### Exercise 5: Class Methods and Static Methods\n",
    "Create a class called MathOperations with:\n",
    "\n",
    "    A static method add(x, y) that returns the sum of two numbers\n",
    "    A class method multiply(cls, x, y) that returns the product of two numbers\n",
    "    A regular method divide(self, x, y) that returns the division of two numbers\n"
   ]
  },
  {
   "cell_type": "code",
   "execution_count": null,
   "metadata": {},
   "outputs": [
    {
     "name": "stdout",
     "output_type": "stream",
     "text": [
      "8\n",
      "8\n",
      "5.0\n",
      "5.0\n"
     ]
    }
   ],
   "source": [
    "class MathOperations:\n",
    "    @staticmethod\n",
    "    def add(x, y):\n",
    "        return x + y\n",
    "\n",
    "    @classmethod\n",
    "    def multiply(cls, x, y):\n",
    "        return x * y\n",
    "\n",
    "    def divide(self, x, y):\n",
    "        return x / y\n",
    "\n",
    "# Test your class\n",
    "print(MathOperations.add(5, 3))\n",
    "print(MathOperations.multiply(4, 2))\n",
    "math_ops = MathOperations()\n",
    "print(math_ops.divide(10, 2))\n",
    "\n",
    "print(MathOperations().divide(10, 2))\n",
    "\n"
   ]
  },
  {
   "cell_type": "markdown",
   "metadata": {},
   "source": [
    "#### Exercise 6: Property Decorators\n",
    "Create a class called Temperature with a private attribute _celsius. Implement getter and setter methods using the @property and @temperature.setter decorators. The setter should also update a fahrenheit attribute automatically. "
   ]
  },
  {
   "cell_type": "code",
   "execution_count": null,
   "metadata": {},
   "outputs": [
    {
     "name": "stdout",
     "output_type": "stream",
     "text": [
      "Celsius: 25\n",
      "Fahrenheit: 77.0\n",
      "New Fahrenheit: 86.0\n"
     ]
    }
   ],
   "source": [
    "class Temperature():\n",
    "    def __init__(self,celsius):\n",
    "        self._celsius = celsius\n",
    "    \n",
    "    @property\n",
    "    def celsius(self):\n",
    "        return self._celsius\n",
    "        \n",
    "    @property\n",
    "    def fahrenheit(self):\n",
    "        self._fahrenheit = self._celsius * 9/5 +32\n",
    "        return self._fahrenheit\n",
    "\n",
    "    @celsius.setter\n",
    "    def celsius(self,value):\n",
    "       self._celsius = value\n",
    "       return self._celsius\n",
    "\n",
    "\n",
    "# Test your class\n",
    "temp = Temperature(25)\n",
    "print(f\"Celsius: {temp.celsius}\")\n",
    "print(f\"Fahrenheit: {temp.fahrenheit}\")\n",
    "temp.celsius = 30\n",
    "print(f\"New Fahrenheit: {temp.fahrenheit}\")\n"
   ]
  },
  {
   "cell_type": "markdown",
   "metadata": {},
   "source": [
    "#### Exercise 7: Abstract Base Classes\n",
    "Import the abc module and create an abstract base class called Vehicle with abstract methods start_engine() and stop_engine(). Then create concrete classes Car and Motorcycle that inherit from Vehicle and implement these methods. "
   ]
  },
  {
   "cell_type": "code",
   "execution_count": null,
   "metadata": {},
   "outputs": [
    {
     "name": "stdout",
     "output_type": "stream",
     "text": [
      "vous venez de démarrer la voiture.\n",
      "vous venez d'arrèter la moto.\n"
     ]
    }
   ],
   "source": [
    "from abc import ABC, abstractmethod\n",
    "\n",
    "class Vehicle(ABC):\n",
    "    @abstractmethod\n",
    "    def start_engine(self):\n",
    "        pass\n",
    "\n",
    "    @abstractmethod\n",
    "    def stop_engine(self):\n",
    "        pass\n",
    "\n",
    "class Car(Vehicle):\n",
    "    def start_engine(self):\n",
    "        print(\"vous venez de démarrer la voiture.\")\n",
    "\n",
    "    def stop_engine(self):\n",
    "        print(\"vous venez d'arrèter la voiture.\")\n",
    "\n",
    "class Motorcycle(Vehicle):\n",
    "    def start_engine(self):\n",
    "        print(\"vous venez de démarrer la moto.\")\n",
    "\n",
    "    def stop_engine(self):\n",
    "        print(\"vous venez d'arrèter la moto.\")\n",
    "\n",
    "# Test your classes\n",
    "car = Car()\n",
    "motorcycle = Motorcycle()\n",
    "car.start_engine()\n",
    "motorcycle.stop_engine()\n"
   ]
  },
  {
   "cell_type": "markdown",
   "metadata": {},
   "source": [
    "#### Exercise 8: Multiple Inheritance\n",
    "Create three classes: Flying, Swimming, and Running, each with a method describing their respective action. Then create a class called Duck that inherits from all three classes and implements all their methods. "
   ]
  },
  {
   "cell_type": "code",
   "execution_count": null,
   "metadata": {},
   "outputs": [],
   "source": [
    "class Flying:\n",
    "    def fly(self):\n",
    "        # Implement this method\n",
    "        pass\n",
    "\n",
    "class Swimming:\n",
    "    def swim(self):\n",
    "        # Implement this method\n",
    "        pass\n",
    "\n",
    "class Running:\n",
    "    def run(self):\n",
    "        # Implement this method\n",
    "        pass\n",
    "\n",
    "class Duck(Flying, Swimming, Running):\n",
    "    pass\n",
    "\n",
    "# Test your class\n",
    "duck = Duck()\n",
    "duck.fly()\n",
    "duck.swim()\n",
    "duck.run()"
   ]
  },
  {
   "cell_type": "markdown",
   "metadata": {},
   "source": [
    "#### Exercise 9: Method Overriding and Super()\n",
    "Create a base class called Employee with attributes name and salary, and a method calculate_bonus(). Create a subclass Manager that overrides the calculate_bonus() method but also calls the parent class method using super(). "
   ]
  },
  {
   "cell_type": "code",
   "execution_count": 34,
   "metadata": {},
   "outputs": [
    {
     "name": "stdout",
     "output_type": "stream",
     "text": [
      "Employee bonus: 5000\n",
      "Manager bonus: 12000\n"
     ]
    }
   ],
   "source": [
    "class Employee:\n",
    "    def __init__(self, name, salary):\n",
    "        self.name = name\n",
    "        self.salary = salary\n",
    "    \n",
    "    def calculate_bonus(self):\n",
    "        return int(self.salary * 0.1)\n",
    "    \n",
    "class Manager(Employee):\n",
    "    def __init__(self, name, salary):\n",
    "        super().__init__(name, salary)\n",
    "\n",
    "    def calculate_bonus(self):\n",
    "        return int(self.salary * 0.15)\n",
    "\n",
    "# Test your classes\n",
    "employee = Employee(\"John Doe\", 50000)\n",
    "manager = Manager(\"Jane Smith\", 80000)\n",
    "print(f\"Employee bonus: {employee.calculate_bonus()}\")\n",
    "print(f\"Manager bonus: {manager.calculate_bonus()}\")\n"
   ]
  },
  {
   "cell_type": "markdown",
   "metadata": {},
   "source": [
    "#### Exercise 10: Composition\n",
    "Create classes for Engine, Wheels, and Body. Then create a Car class that uses composition to include these parts as attributes. Implement methods in the Car class that interact with its component parts."
   ]
  },
  {
   "cell_type": "code",
   "execution_count": null,
   "metadata": {},
   "outputs": [],
   "source": [
    "class Engine:\n",
    "    def start(self):\n",
    "        # Implement this method\n",
    "        pass\n",
    "\n",
    "class Wheels:\n",
    "    def rotate(self):\n",
    "        # Implement this method\n",
    "        pass\n",
    "\n",
    "class Body:\n",
    "    def paint(self, color):\n",
    "        # Implement this method\n",
    "        pass\n",
    "\n",
    "class Car:\n",
    "    def __init__(self):\n",
    "        self.engine = Engine()\n",
    "        self.wheels = Wheels()\n",
    "        self.body = Body()\n",
    "\n",
    "    def start_car(self):\n",
    "        # Implement this method\n",
    "        pass\n",
    "\n",
    "    def drive(self):\n",
    "        # Implement this method\n",
    "        pass\n",
    "\n",
    "    def paint_car(self, color):\n",
    "        # Implement this method\n",
    "        pass\n",
    "\n",
    "# Test your class\n",
    "my_car = Car()\n",
    "my_car.start_car()\n",
    "my_car.drive()\n",
    "my_car.paint_car(\"Red\")\n"
   ]
  }
 ],
 "metadata": {
  "kernelspec": {
   "display_name": "Python 3",
   "language": "python",
   "name": "python3"
  },
  "language_info": {
   "codemirror_mode": {
    "name": "ipython",
    "version": 3
   },
   "file_extension": ".py",
   "mimetype": "text/x-python",
   "name": "python",
   "nbconvert_exporter": "python",
   "pygments_lexer": "ipython3",
   "version": "3.13.2"
  }
 },
 "nbformat": 4,
 "nbformat_minor": 2
}
